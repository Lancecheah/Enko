{
 "cells": [
  {
   "cell_type": "code",
   "execution_count": 1,
   "id": "4c211e14",
   "metadata": {},
   "outputs": [],
   "source": [
    "import pandas as pd\n",
    "import numpy as np\n",
    "import yfinance as yf\n",
    "import seaborn as sns\n",
    "import matplotlib.pyplot as plt\n",
    "%matplotlib inline"
   ]
  },
  {
   "cell_type": "code",
   "execution_count": 2,
   "id": "68e9e8fa",
   "metadata": {},
   "outputs": [],
   "source": [
    "from sklearn.linear_model import LinearRegression\n",
    "from sklearn.neighbors import KNeighborsRegressor\n",
    "from sklearn.neural_network import MLPRegressor\n",
    "from sklearn.ensemble import RandomForestRegressor,BaggingRegressor,GradientBoostingRegressor,AdaBoostRegressor\n",
    "\n",
    "from sklearn.preprocessing import MinMaxScaler\n",
    "from sklearn.model_selection import train_test_split\n",
    "from sklearn.model_selection import  RandomizedSearchCV,GridSearchCV\n",
    "from sklearn.metrics import mean_absolute_error"
   ]
  },
  {
   "cell_type": "code",
   "execution_count": 3,
   "id": "c077c4df",
   "metadata": {},
   "outputs": [
    {
     "name": "stdout",
     "output_type": "stream",
     "text": [
      "[*********************100%***********************]  1 of 1 completed\n"
     ]
    }
   ],
   "source": [
    "df = yf.download(\"TSLA\", start = \"2012-05-01\", end = \"2022-05-01\")[\"Adj Close\"]"
   ]
  },
  {
   "cell_type": "code",
   "execution_count": 4,
   "id": "38c9928c",
   "metadata": {},
   "outputs": [],
   "source": [
    "df = df.to_frame()\n",
    "df['Close'] = df['Adj Close']\n",
    "df = df.drop(\"Adj Close\",axis=1)"
   ]
  },
  {
   "cell_type": "markdown",
   "id": "e014fd55",
   "metadata": {},
   "source": [
    "# Create More Features for my Model to Train"
   ]
  },
  {
   "cell_type": "markdown",
   "id": "e0d83b0c",
   "metadata": {},
   "source": [
    "# Adding moving averages"
   ]
  },
  {
   "cell_type": "code",
   "execution_count": 5,
   "id": "bc051a82",
   "metadata": {},
   "outputs": [],
   "source": [
    "for sma_period in [5,10,20,50,100,200]:\n",
    "    indicator_name = \"SMA_%d\" % (sma_period)\n",
    "    df[indicator_name] = df['Close'].rolling(sma_period).mean()"
   ]
  },
  {
   "cell_type": "markdown",
   "id": "99b9178f",
   "metadata": {},
   "source": [
    "# Adding Bollinger bands"
   ]
  },
  {
   "cell_type": "code",
   "execution_count": 6,
   "id": "64ca5738",
   "metadata": {},
   "outputs": [],
   "source": [
    "df['BollingerBand_Up_20_2'] = df['Close'].rolling(20).mean() + 2*df['Close'].rolling(20).std()\n",
    "df['BollingerBand_Down_20_2'] = df['Close'].rolling(20).mean() - 2*df['Close'].rolling(20).std()\n",
    "\n",
    "\n",
    "df['BollingerBand_Up_20_1'] = df['Close'].rolling(20).mean() + df['Close'].rolling(20).std()\n",
    "df['BollingerBand_Down_20_1'] = df['Close'].rolling(20).mean() - df['Close'].rolling(20).std()\n",
    "\n",
    "df['BollingerBand_Up_10_1'] = df['Close'].rolling(10).mean() + df['Close'].rolling(10).std()\n",
    "df['BollingerBand_Down_10_1'] = df['Close'].rolling(10).mean() - df['Close'].rolling(10).std()\n",
    "\n",
    "df['BollingerBand_Up_10_2'] = df['Close'].rolling(10).mean() + 2*df['Close'].rolling(10).std()\n",
    "df['BollingerBand_Down_10_2'] = df['Close'].rolling(10).mean() - 2*df['Close'].rolling(10).std()"
   ]
  },
  {
   "cell_type": "markdown",
   "id": "a1c6209f",
   "metadata": {},
   "source": [
    "# Creating input features"
   ]
  },
  {
   "cell_type": "code",
   "execution_count": 7,
   "id": "0e5c45aa",
   "metadata": {},
   "outputs": [],
   "source": [
    "newdata = df['Close'].to_frame()\n",
    "for lag in [1,2,3,4,5,6,7,8,9,10]:\n",
    "    shift = lag\n",
    "    shifted = df.shift(shift)\n",
    "    shifted.columns = [str.format(\"%s_shifted_by_%d\" % (column ,shift)) for column in shifted.columns]\n",
    "    newdata = pd.concat((newdata,shifted),axis=1)"
   ]
  },
  {
   "cell_type": "markdown",
   "id": "aa154719",
   "metadata": {},
   "source": [
    "# Creating target variable"
   ]
  },
  {
   "cell_type": "code",
   "execution_count": 8,
   "id": "39019f10",
   "metadata": {},
   "outputs": [
    {
     "name": "stderr",
     "output_type": "stream",
     "text": [
      "C:\\Users\\Lenovo\\AppData\\Local\\Temp\\ipykernel_24620\\4054800636.py:3: PerformanceWarning: DataFrame is highly fragmented.  This is usually the result of calling `frame.insert` many times, which has poor performance.  Consider joining all columns at once using pd.concat(axis=1) instead. To get a de-fragmented frame, use `newframe = frame.copy()`\n",
      "  newdata['target'] = newdata['Close'].shift(-forward_lag)\n"
     ]
    }
   ],
   "source": [
    "forward_lag = 5\n",
    "\n",
    "newdata['target'] = newdata['Close'].shift(-forward_lag)\n",
    "newdata = newdata.drop('Close',axis=1)\n",
    "\n",
    "newdata = newdata.dropna()"
   ]
  },
  {
   "cell_type": "code",
   "execution_count": 9,
   "id": "84e9bf28",
   "metadata": {},
   "outputs": [
    {
     "data": {
      "text/html": [
       "<div><div id=64779bdb-d92b-48b3-b372-b0f79dbbe6aa style=\"display:none; background-color:#9D6CFF; color:white; width:200px; height:30px; padding-left:5px; border-radius:4px; flex-direction:row; justify-content:space-around; align-items:center;\" onmouseover=\"this.style.backgroundColor='#BA9BF8'\" onmouseout=\"this.style.backgroundColor='#9D6CFF'\" onclick=\"window.commands?.execute('create-mitosheet-from-dataframe-output');\">See Full Dataframe in Mito</div> <script> if (window.commands.hasCommand('create-mitosheet-from-dataframe-output')) document.getElementById('64779bdb-d92b-48b3-b372-b0f79dbbe6aa').style.display = 'flex' </script> <table border=\"1\" class=\"dataframe\">\n",
       "  <thead>\n",
       "    <tr style=\"text-align: right;\">\n",
       "      <th></th>\n",
       "      <th>Close_shifted_by_1</th>\n",
       "      <th>SMA_5_shifted_by_1</th>\n",
       "      <th>SMA_10_shifted_by_1</th>\n",
       "      <th>SMA_20_shifted_by_1</th>\n",
       "      <th>SMA_50_shifted_by_1</th>\n",
       "      <th>SMA_100_shifted_by_1</th>\n",
       "      <th>SMA_200_shifted_by_1</th>\n",
       "      <th>BollingerBand_Up_20_2_shifted_by_1</th>\n",
       "      <th>BollingerBand_Down_20_2_shifted_by_1</th>\n",
       "      <th>BollingerBand_Up_20_1_shifted_by_1</th>\n",
       "      <th>...</th>\n",
       "      <th>SMA_200_shifted_by_10</th>\n",
       "      <th>BollingerBand_Up_20_2_shifted_by_10</th>\n",
       "      <th>BollingerBand_Down_20_2_shifted_by_10</th>\n",
       "      <th>BollingerBand_Up_20_1_shifted_by_10</th>\n",
       "      <th>BollingerBand_Down_20_1_shifted_by_10</th>\n",
       "      <th>BollingerBand_Up_10_1_shifted_by_10</th>\n",
       "      <th>BollingerBand_Down_10_1_shifted_by_10</th>\n",
       "      <th>BollingerBand_Up_10_2_shifted_by_10</th>\n",
       "      <th>BollingerBand_Down_10_2_shifted_by_10</th>\n",
       "      <th>target</th>\n",
       "    </tr>\n",
       "    <tr>\n",
       "      <th>Date</th>\n",
       "      <th></th>\n",
       "      <th></th>\n",
       "      <th></th>\n",
       "      <th></th>\n",
       "      <th></th>\n",
       "      <th></th>\n",
       "      <th></th>\n",
       "      <th></th>\n",
       "      <th></th>\n",
       "      <th></th>\n",
       "      <th></th>\n",
       "      <th></th>\n",
       "      <th></th>\n",
       "      <th></th>\n",
       "      <th></th>\n",
       "      <th></th>\n",
       "      <th></th>\n",
       "      <th></th>\n",
       "      <th></th>\n",
       "      <th></th>\n",
       "      <th></th>\n",
       "    </tr>\n",
       "  </thead>\n",
       "  <tbody>\n",
       "    <tr>\n",
       "      <th>2013-03-01</th>\n",
       "      <td>6.966000</td>\n",
       "      <td>6.994000</td>\n",
       "      <td>7.262800</td>\n",
       "      <td>7.474700</td>\n",
       "      <td>7.158400</td>\n",
       "      <td>6.670140</td>\n",
       "      <td>6.333140</td>\n",
       "      <td>8.167051</td>\n",
       "      <td>6.782349</td>\n",
       "      <td>7.820876</td>\n",
       "      <td>...</td>\n",
       "      <td>6.299090</td>\n",
       "      <td>8.085881</td>\n",
       "      <td>6.917319</td>\n",
       "      <td>7.793740</td>\n",
       "      <td>7.209460</td>\n",
       "      <td>7.820018</td>\n",
       "      <td>7.583582</td>\n",
       "      <td>7.938236</td>\n",
       "      <td>7.465364</td>\n",
       "      <td>7.694000</td>\n",
       "    </tr>\n",
       "    <tr>\n",
       "      <th>2013-03-04</th>\n",
       "      <td>6.930000</td>\n",
       "      <td>6.935600</td>\n",
       "      <td>7.190400</td>\n",
       "      <td>7.446100</td>\n",
       "      <td>7.159400</td>\n",
       "      <td>6.680840</td>\n",
       "      <td>6.335540</td>\n",
       "      <td>8.179729</td>\n",
       "      <td>6.712471</td>\n",
       "      <td>7.812915</td>\n",
       "      <td>...</td>\n",
       "      <td>6.303000</td>\n",
       "      <td>8.035993</td>\n",
       "      <td>7.020406</td>\n",
       "      <td>7.782097</td>\n",
       "      <td>7.274303</td>\n",
       "      <td>7.827155</td>\n",
       "      <td>7.526045</td>\n",
       "      <td>7.977709</td>\n",
       "      <td>7.375491</td>\n",
       "      <td>7.820000</td>\n",
       "    </tr>\n",
       "    <tr>\n",
       "      <th>2013-03-05</th>\n",
       "      <td>7.116000</td>\n",
       "      <td>6.983600</td>\n",
       "      <td>7.161200</td>\n",
       "      <td>7.418900</td>\n",
       "      <td>7.163360</td>\n",
       "      <td>6.693200</td>\n",
       "      <td>6.341060</td>\n",
       "      <td>8.159444</td>\n",
       "      <td>6.678356</td>\n",
       "      <td>7.789172</td>\n",
       "      <td>...</td>\n",
       "      <td>6.308500</td>\n",
       "      <td>8.010437</td>\n",
       "      <td>7.141163</td>\n",
       "      <td>7.793118</td>\n",
       "      <td>7.358481</td>\n",
       "      <td>7.860211</td>\n",
       "      <td>7.554589</td>\n",
       "      <td>8.013022</td>\n",
       "      <td>7.401778</td>\n",
       "      <td>7.824000</td>\n",
       "    </tr>\n",
       "    <tr>\n",
       "      <th>2013-03-06</th>\n",
       "      <td>7.330000</td>\n",
       "      <td>7.072400</td>\n",
       "      <td>7.108600</td>\n",
       "      <td>7.408000</td>\n",
       "      <td>7.171520</td>\n",
       "      <td>6.708720</td>\n",
       "      <td>6.348280</td>\n",
       "      <td>8.146959</td>\n",
       "      <td>6.669041</td>\n",
       "      <td>7.777479</td>\n",
       "      <td>...</td>\n",
       "      <td>6.313100</td>\n",
       "      <td>7.965633</td>\n",
       "      <td>7.252967</td>\n",
       "      <td>7.787466</td>\n",
       "      <td>7.431134</td>\n",
       "      <td>7.865734</td>\n",
       "      <td>7.565466</td>\n",
       "      <td>8.015868</td>\n",
       "      <td>7.415332</td>\n",
       "      <td>7.796000</td>\n",
       "    </tr>\n",
       "    <tr>\n",
       "      <th>2013-03-07</th>\n",
       "      <td>7.538000</td>\n",
       "      <td>7.176000</td>\n",
       "      <td>7.091600</td>\n",
       "      <td>7.403600</td>\n",
       "      <td>7.184560</td>\n",
       "      <td>6.725600</td>\n",
       "      <td>6.356790</td>\n",
       "      <td>8.138128</td>\n",
       "      <td>6.669072</td>\n",
       "      <td>7.770864</td>\n",
       "      <td>...</td>\n",
       "      <td>6.315800</td>\n",
       "      <td>8.002858</td>\n",
       "      <td>7.198942</td>\n",
       "      <td>7.801879</td>\n",
       "      <td>7.399921</td>\n",
       "      <td>7.891835</td>\n",
       "      <td>7.378965</td>\n",
       "      <td>8.148271</td>\n",
       "      <td>7.122529</td>\n",
       "      <td>7.370000</td>\n",
       "    </tr>\n",
       "    <tr>\n",
       "      <th>...</th>\n",
       "      <td>...</td>\n",
       "      <td>...</td>\n",
       "      <td>...</td>\n",
       "      <td>...</td>\n",
       "      <td>...</td>\n",
       "      <td>...</td>\n",
       "      <td>...</td>\n",
       "      <td>...</td>\n",
       "      <td>...</td>\n",
       "      <td>...</td>\n",
       "      <td>...</td>\n",
       "      <td>...</td>\n",
       "      <td>...</td>\n",
       "      <td>...</td>\n",
       "      <td>...</td>\n",
       "      <td>...</td>\n",
       "      <td>...</td>\n",
       "      <td>...</td>\n",
       "      <td>...</td>\n",
       "      <td>...</td>\n",
       "      <td>...</td>\n",
       "    </tr>\n",
       "    <tr>\n",
       "      <th>2022-04-18</th>\n",
       "      <td>985.000000</td>\n",
       "      <td>999.147998</td>\n",
       "      <td>1042.005994</td>\n",
       "      <td>1031.362988</td>\n",
       "      <td>926.253794</td>\n",
       "      <td>975.141194</td>\n",
       "      <td>889.689846</td>\n",
       "      <td>1155.484954</td>\n",
       "      <td>907.241023</td>\n",
       "      <td>1093.423971</td>\n",
       "      <td>...</td>\n",
       "      <td>872.638946</td>\n",
       "      <td>1170.116247</td>\n",
       "      <td>699.231726</td>\n",
       "      <td>1052.395117</td>\n",
       "      <td>816.952857</td>\n",
       "      <td>1098.258552</td>\n",
       "      <td>979.021404</td>\n",
       "      <td>1157.877127</td>\n",
       "      <td>919.402829</td>\n",
       "      <td>998.020020</td>\n",
       "    </tr>\n",
       "    <tr>\n",
       "      <th>2022-04-19</th>\n",
       "      <td>1004.289978</td>\n",
       "      <td>994.907996</td>\n",
       "      <td>1033.975995</td>\n",
       "      <td>1036.307986</td>\n",
       "      <td>928.516793</td>\n",
       "      <td>973.615394</td>\n",
       "      <td>891.321696</td>\n",
       "      <td>1146.383983</td>\n",
       "      <td>926.231990</td>\n",
       "      <td>1091.345985</td>\n",
       "      <td>...</td>\n",
       "      <td>875.249646</td>\n",
       "      <td>1196.666233</td>\n",
       "      <td>706.768734</td>\n",
       "      <td>1074.191858</td>\n",
       "      <td>829.243109</td>\n",
       "      <td>1113.313688</td>\n",
       "      <td>1008.824264</td>\n",
       "      <td>1165.558399</td>\n",
       "      <td>956.579552</td>\n",
       "      <td>876.419983</td>\n",
       "    </tr>\n",
       "    <tr>\n",
       "      <th>2022-04-20</th>\n",
       "      <td>1028.150024</td>\n",
       "      <td>1005.352002</td>\n",
       "      <td>1022.246002</td>\n",
       "      <td>1041.657489</td>\n",
       "      <td>930.613394</td>\n",
       "      <td>972.806594</td>\n",
       "      <td>893.067946</td>\n",
       "      <td>1137.672386</td>\n",
       "      <td>945.642592</td>\n",
       "      <td>1089.664938</td>\n",
       "      <td>...</td>\n",
       "      <td>877.601796</td>\n",
       "      <td>1209.880995</td>\n",
       "      <td>720.239971</td>\n",
       "      <td>1087.470739</td>\n",
       "      <td>842.650227</td>\n",
       "      <td>1117.972554</td>\n",
       "      <td>1023.621404</td>\n",
       "      <td>1165.148129</td>\n",
       "      <td>976.445829</td>\n",
       "      <td>881.510010</td>\n",
       "    </tr>\n",
       "    <tr>\n",
       "      <th>2022-04-21</th>\n",
       "      <td>977.200012</td>\n",
       "      <td>1003.402002</td>\n",
       "      <td>1010.840002</td>\n",
       "      <td>1040.818491</td>\n",
       "      <td>932.010593</td>\n",
       "      <td>971.418594</td>\n",
       "      <td>894.656046</td>\n",
       "      <td>1138.859439</td>\n",
       "      <td>942.777543</td>\n",
       "      <td>1089.838965</td>\n",
       "      <td>...</td>\n",
       "      <td>879.712046</td>\n",
       "      <td>1216.415137</td>\n",
       "      <td>732.384833</td>\n",
       "      <td>1095.407561</td>\n",
       "      <td>853.392409</td>\n",
       "      <td>1116.693059</td>\n",
       "      <td>1034.230903</td>\n",
       "      <td>1157.924138</td>\n",
       "      <td>992.999825</td>\n",
       "      <td>877.510010</td>\n",
       "    </tr>\n",
       "    <tr>\n",
       "      <th>2022-04-22</th>\n",
       "      <td>1008.780029</td>\n",
       "      <td>1000.684009</td>\n",
       "      <td>1007.142004</td>\n",
       "      <td>1041.301993</td>\n",
       "      <td>933.746194</td>\n",
       "      <td>970.687194</td>\n",
       "      <td>896.476696</td>\n",
       "      <td>1138.569198</td>\n",
       "      <td>944.034788</td>\n",
       "      <td>1089.935595</td>\n",
       "      <td>...</td>\n",
       "      <td>881.715496</td>\n",
       "      <td>1221.170951</td>\n",
       "      <td>749.525021</td>\n",
       "      <td>1103.259468</td>\n",
       "      <td>867.436503</td>\n",
       "      <td>1115.783751</td>\n",
       "      <td>1043.808216</td>\n",
       "      <td>1151.771519</td>\n",
       "      <td>1007.820449</td>\n",
       "      <td>870.760010</td>\n",
       "    </tr>\n",
       "  </tbody>\n",
       "</table></div>"
      ],
      "text/plain": [
       "            Close_shifted_by_1  SMA_5_shifted_by_1  SMA_10_shifted_by_1  \\\n",
       "Date                                                                      \n",
       "2013-03-01            6.966000            6.994000             7.262800   \n",
       "2013-03-04            6.930000            6.935600             7.190400   \n",
       "2013-03-05            7.116000            6.983600             7.161200   \n",
       "2013-03-06            7.330000            7.072400             7.108600   \n",
       "2013-03-07            7.538000            7.176000             7.091600   \n",
       "...                        ...                 ...                  ...   \n",
       "2022-04-18          985.000000          999.147998          1042.005994   \n",
       "2022-04-19         1004.289978          994.907996          1033.975995   \n",
       "2022-04-20         1028.150024         1005.352002          1022.246002   \n",
       "2022-04-21          977.200012         1003.402002          1010.840002   \n",
       "2022-04-22         1008.780029         1000.684009          1007.142004   \n",
       "\n",
       "            SMA_20_shifted_by_1  SMA_50_shifted_by_1  SMA_100_shifted_by_1  \\\n",
       "Date                                                                         \n",
       "2013-03-01             7.474700             7.158400              6.670140   \n",
       "2013-03-04             7.446100             7.159400              6.680840   \n",
       "2013-03-05             7.418900             7.163360              6.693200   \n",
       "2013-03-06             7.408000             7.171520              6.708720   \n",
       "2013-03-07             7.403600             7.184560              6.725600   \n",
       "...                         ...                  ...                   ...   \n",
       "2022-04-18          1031.362988           926.253794            975.141194   \n",
       "2022-04-19          1036.307986           928.516793            973.615394   \n",
       "2022-04-20          1041.657489           930.613394            972.806594   \n",
       "2022-04-21          1040.818491           932.010593            971.418594   \n",
       "2022-04-22          1041.301993           933.746194            970.687194   \n",
       "\n",
       "            SMA_200_shifted_by_1  BollingerBand_Up_20_2_shifted_by_1  \\\n",
       "Date                                                                   \n",
       "2013-03-01              6.333140                            8.167051   \n",
       "2013-03-04              6.335540                            8.179729   \n",
       "2013-03-05              6.341060                            8.159444   \n",
       "2013-03-06              6.348280                            8.146959   \n",
       "2013-03-07              6.356790                            8.138128   \n",
       "...                          ...                                 ...   \n",
       "2022-04-18            889.689846                         1155.484954   \n",
       "2022-04-19            891.321696                         1146.383983   \n",
       "2022-04-20            893.067946                         1137.672386   \n",
       "2022-04-21            894.656046                         1138.859439   \n",
       "2022-04-22            896.476696                         1138.569198   \n",
       "\n",
       "            BollingerBand_Down_20_2_shifted_by_1  \\\n",
       "Date                                               \n",
       "2013-03-01                              6.782349   \n",
       "2013-03-04                              6.712471   \n",
       "2013-03-05                              6.678356   \n",
       "2013-03-06                              6.669041   \n",
       "2013-03-07                              6.669072   \n",
       "...                                          ...   \n",
       "2022-04-18                            907.241023   \n",
       "2022-04-19                            926.231990   \n",
       "2022-04-20                            945.642592   \n",
       "2022-04-21                            942.777543   \n",
       "2022-04-22                            944.034788   \n",
       "\n",
       "            BollingerBand_Up_20_1_shifted_by_1  ...  SMA_200_shifted_by_10  \\\n",
       "Date                                            ...                          \n",
       "2013-03-01                            7.820876  ...               6.299090   \n",
       "2013-03-04                            7.812915  ...               6.303000   \n",
       "2013-03-05                            7.789172  ...               6.308500   \n",
       "2013-03-06                            7.777479  ...               6.313100   \n",
       "2013-03-07                            7.770864  ...               6.315800   \n",
       "...                                        ...  ...                    ...   \n",
       "2022-04-18                         1093.423971  ...             872.638946   \n",
       "2022-04-19                         1091.345985  ...             875.249646   \n",
       "2022-04-20                         1089.664938  ...             877.601796   \n",
       "2022-04-21                         1089.838965  ...             879.712046   \n",
       "2022-04-22                         1089.935595  ...             881.715496   \n",
       "\n",
       "            BollingerBand_Up_20_2_shifted_by_10  \\\n",
       "Date                                              \n",
       "2013-03-01                             8.085881   \n",
       "2013-03-04                             8.035993   \n",
       "2013-03-05                             8.010437   \n",
       "2013-03-06                             7.965633   \n",
       "2013-03-07                             8.002858   \n",
       "...                                         ...   \n",
       "2022-04-18                          1170.116247   \n",
       "2022-04-19                          1196.666233   \n",
       "2022-04-20                          1209.880995   \n",
       "2022-04-21                          1216.415137   \n",
       "2022-04-22                          1221.170951   \n",
       "\n",
       "            BollingerBand_Down_20_2_shifted_by_10  \\\n",
       "Date                                                \n",
       "2013-03-01                               6.917319   \n",
       "2013-03-04                               7.020406   \n",
       "2013-03-05                               7.141163   \n",
       "2013-03-06                               7.252967   \n",
       "2013-03-07                               7.198942   \n",
       "...                                           ...   \n",
       "2022-04-18                             699.231726   \n",
       "2022-04-19                             706.768734   \n",
       "2022-04-20                             720.239971   \n",
       "2022-04-21                             732.384833   \n",
       "2022-04-22                             749.525021   \n",
       "\n",
       "            BollingerBand_Up_20_1_shifted_by_10  \\\n",
       "Date                                              \n",
       "2013-03-01                             7.793740   \n",
       "2013-03-04                             7.782097   \n",
       "2013-03-05                             7.793118   \n",
       "2013-03-06                             7.787466   \n",
       "2013-03-07                             7.801879   \n",
       "...                                         ...   \n",
       "2022-04-18                          1052.395117   \n",
       "2022-04-19                          1074.191858   \n",
       "2022-04-20                          1087.470739   \n",
       "2022-04-21                          1095.407561   \n",
       "2022-04-22                          1103.259468   \n",
       "\n",
       "            BollingerBand_Down_20_1_shifted_by_10  \\\n",
       "Date                                                \n",
       "2013-03-01                               7.209460   \n",
       "2013-03-04                               7.274303   \n",
       "2013-03-05                               7.358481   \n",
       "2013-03-06                               7.431134   \n",
       "2013-03-07                               7.399921   \n",
       "...                                           ...   \n",
       "2022-04-18                             816.952857   \n",
       "2022-04-19                             829.243109   \n",
       "2022-04-20                             842.650227   \n",
       "2022-04-21                             853.392409   \n",
       "2022-04-22                             867.436503   \n",
       "\n",
       "            BollingerBand_Up_10_1_shifted_by_10  \\\n",
       "Date                                              \n",
       "2013-03-01                             7.820018   \n",
       "2013-03-04                             7.827155   \n",
       "2013-03-05                             7.860211   \n",
       "2013-03-06                             7.865734   \n",
       "2013-03-07                             7.891835   \n",
       "...                                         ...   \n",
       "2022-04-18                          1098.258552   \n",
       "2022-04-19                          1113.313688   \n",
       "2022-04-20                          1117.972554   \n",
       "2022-04-21                          1116.693059   \n",
       "2022-04-22                          1115.783751   \n",
       "\n",
       "            BollingerBand_Down_10_1_shifted_by_10  \\\n",
       "Date                                                \n",
       "2013-03-01                               7.583582   \n",
       "2013-03-04                               7.526045   \n",
       "2013-03-05                               7.554589   \n",
       "2013-03-06                               7.565466   \n",
       "2013-03-07                               7.378965   \n",
       "...                                           ...   \n",
       "2022-04-18                             979.021404   \n",
       "2022-04-19                            1008.824264   \n",
       "2022-04-20                            1023.621404   \n",
       "2022-04-21                            1034.230903   \n",
       "2022-04-22                            1043.808216   \n",
       "\n",
       "            BollingerBand_Up_10_2_shifted_by_10  \\\n",
       "Date                                              \n",
       "2013-03-01                             7.938236   \n",
       "2013-03-04                             7.977709   \n",
       "2013-03-05                             8.013022   \n",
       "2013-03-06                             8.015868   \n",
       "2013-03-07                             8.148271   \n",
       "...                                         ...   \n",
       "2022-04-18                          1157.877127   \n",
       "2022-04-19                          1165.558399   \n",
       "2022-04-20                          1165.148129   \n",
       "2022-04-21                          1157.924138   \n",
       "2022-04-22                          1151.771519   \n",
       "\n",
       "            BollingerBand_Down_10_2_shifted_by_10      target  \n",
       "Date                                                           \n",
       "2013-03-01                               7.465364    7.694000  \n",
       "2013-03-04                               7.375491    7.820000  \n",
       "2013-03-05                               7.401778    7.824000  \n",
       "2013-03-06                               7.415332    7.796000  \n",
       "2013-03-07                               7.122529    7.370000  \n",
       "...                                           ...         ...  \n",
       "2022-04-18                             919.402829  998.020020  \n",
       "2022-04-19                             956.579552  876.419983  \n",
       "2022-04-20                             976.445829  881.510010  \n",
       "2022-04-21                             992.999825  877.510010  \n",
       "2022-04-22                            1007.820449  870.760010  \n",
       "\n",
       "[2304 rows x 151 columns]"
      ]
     },
     "execution_count": 9,
     "metadata": {},
     "output_type": "execute_result"
    }
   ],
   "source": [
    "newdata"
   ]
  },
  {
   "cell_type": "code",
   "execution_count": 10,
   "id": "ee69efb9",
   "metadata": {},
   "outputs": [
    {
     "data": {
      "text/plain": [
       "(2304, 151)"
      ]
     },
     "execution_count": 10,
     "metadata": {},
     "output_type": "execute_result"
    }
   ],
   "source": [
    "newdata.shape"
   ]
  },
  {
   "cell_type": "markdown",
   "id": "5674cd9d",
   "metadata": {},
   "source": [
    "# Training and test set - random_state=88"
   ]
  },
  {
   "cell_type": "code",
   "execution_count": 11,
   "id": "9947be1d",
   "metadata": {},
   "outputs": [],
   "source": [
    "X = newdata.drop(\"target\",axis=1)\n",
    "Y = newdata['target']\n",
    "\n",
    "\n",
    "X_train, X_test, y_train, y_test = train_test_split(X, Y, test_size=0.3, random_state=88)"
   ]
  },
  {
   "cell_type": "markdown",
   "id": "9a889142",
   "metadata": {},
   "source": [
    "# Feature selection via Pearson correlation coeffficient"
   ]
  },
  {
   "cell_type": "code",
   "execution_count": 12,
   "id": "dc01d900",
   "metadata": {},
   "outputs": [],
   "source": [
    "#As there are over 151 features in the datasets we pick the top 50 highest coefficient for training & testing. \n",
    "correlations = np.abs(X_train.corrwith(y_train))\n",
    "\n",
    "features =  list(correlations.sort_values(ascending=False)[0:50].index)"
   ]
  },
  {
   "cell_type": "code",
   "execution_count": 13,
   "id": "dcd5672c",
   "metadata": {},
   "outputs": [],
   "source": [
    "X_train = X_train[features]\n",
    "X_test = X_test[features]"
   ]
  },
  {
   "cell_type": "markdown",
   "id": "c888355b",
   "metadata": {},
   "source": [
    "# Linear regression"
   ]
  },
  {
   "cell_type": "code",
   "execution_count": 14,
   "id": "e5b77d6f",
   "metadata": {},
   "outputs": [
    {
     "data": {
      "text/plain": [
       "LinearRegression()"
      ]
     },
     "execution_count": 14,
     "metadata": {},
     "output_type": "execute_result"
    }
   ],
   "source": [
    "lr = LinearRegression()\n",
    "\n",
    "lr.fit(X_train,y_train)"
   ]
  },
  {
   "cell_type": "code",
   "execution_count": 15,
   "id": "ef8c4bb8",
   "metadata": {},
   "outputs": [],
   "source": [
    "y_pred = lr.predict(X_test)"
   ]
  },
  {
   "cell_type": "code",
   "execution_count": 16,
   "id": "b95a4f20",
   "metadata": {},
   "outputs": [
    {
     "data": {
      "text/plain": [
       "14.726219136464799"
      ]
     },
     "execution_count": 16,
     "metadata": {},
     "output_type": "execute_result"
    }
   ],
   "source": [
    "mean_absolute_error(y_test,y_pred)"
   ]
  },
  {
   "cell_type": "code",
   "execution_count": 17,
   "id": "492accd4",
   "metadata": {},
   "outputs": [
    {
     "data": {
      "image/png": "[encoded data removed]",
      "text/plain": [
       "<Figure size 432x288 with 1 Axes>"
      ]
     },
     "metadata": {
      "needs_background": "light"
     },
     "output_type": "display_data"
    }
   ],
   "source": [
    "plt.scatter(y_test, y_pred, c='lime', edgecolor='black')\n",
    "m, b = np.polyfit(y_test, y_pred, 1)\n",
    "plt.plot(y_test, m*y_test + b)\n",
    "plt.xlabel(\"Real\")\n",
    "plt.ylabel(\"Predicted\")\n",
    "plt.title(\"Linear regression\")\n",
    "plt.show()   "
   ]
  },
  {
   "cell_type": "markdown",
   "id": "9685e733",
   "metadata": {},
   "source": [
    "# Random forest"
   ]
  },
  {
   "cell_type": "code",
   "execution_count": 18,
   "id": "f8267eb2",
   "metadata": {},
   "outputs": [
    {
     "data": {
      "text/plain": [
       "RandomizedSearchCV(cv=5, estimator=RandomForestRegressor(), n_iter=20,\n",
       "                   param_distributions={'max_features': array([1, 2, 3, 4, 5, 6, 7, 8, 9]),\n",
       "                                        'n_estimators': array([ 10,  15,  20,  25,  30,  35,  40,  45,  50,  55,  60,  65,  70,\n",
       "        75,  80,  85,  90,  95, 100, 105, 110, 115, 120, 125, 130, 135,\n",
       "       140, 145, 150, 155, 160, 165, 170, 175, 180, 185, 190, 195, 200,\n",
       "       205, 210, 215, 220, 225, 230, 235, 240, 245, 250, 255, 260, 265,\n",
       "       270, 275, 280, 285, 290, 295, 300, 305, 310, 315, 320, 325, 330,\n",
       "       335, 340, 345, 350, 355, 360, 365, 370, 375, 380, 385, 390, 395,\n",
       "       400, 405, 410, 415, 420, 425, 430, 435, 440, 445, 450, 455, 460,\n",
       "       465, 470, 475, 480, 485, 490, 495])},\n",
       "                   random_state=0, scoring='neg_mean_absolute_error')"
      ]
     },
     "execution_count": 18,
     "metadata": {},
     "output_type": "execute_result"
    }
   ],
   "source": [
    "rf = RandomizedSearchCV(RandomForestRegressor(),param_distributions =  {\n",
    "                                'n_estimators':np.arange(10,500,5),\n",
    "                                'max_features':np.arange(1,10,1)\n",
    "                            },\n",
    "                            cv=5, n_iter = 20,\n",
    "                            random_state=0,refit=True,\n",
    "                            scoring=\"neg_mean_absolute_error\")\n",
    "\n",
    "rf.fit(X_train,y_train)"
   ]
  },
  {
   "cell_type": "code",
   "execution_count": 19,
   "id": "4ae77b7f",
   "metadata": {},
   "outputs": [
    {
     "data": {
      "text/plain": [
       "{'n_estimators': 255, 'max_features': 9}"
      ]
     },
     "execution_count": 19,
     "metadata": {},
     "output_type": "execute_result"
    }
   ],
   "source": [
    "rf.best_params_"
   ]
  },
  {
   "cell_type": "code",
   "execution_count": 20,
   "id": "06ef7f64",
   "metadata": {},
   "outputs": [],
   "source": [
    "y_pred = rf.predict(X_test)"
   ]
  },
  {
   "cell_type": "code",
   "execution_count": 21,
   "id": "fa4c5c29",
   "metadata": {},
   "outputs": [
    {
     "data": {
      "text/plain": [
       "9.187292783722159"
      ]
     },
     "execution_count": 21,
     "metadata": {},
     "output_type": "execute_result"
    }
   ],
   "source": [
    "mean_absolute_error(y_test,y_pred)"
   ]
  },
  {
   "cell_type": "code",
   "execution_count": 22,
   "id": "28e7ae74",
   "metadata": {},
   "outputs": [
    {
     "data": {
      "image/png": "[encoded data removed]",
      "text/plain": [
       "<Figure size 432x288 with 1 Axes>"
      ]
     },
     "metadata": {
      "needs_background": "light"
     },
     "output_type": "display_data"
    }
   ],
   "source": [
    "plt.scatter(y_test, y_pred, c='lime', edgecolor='black')\n",
    "m, b = np.polyfit(y_test, y_pred, 1)\n",
    "plt.plot(y_test, m*y_test + b)\n",
    "plt.xlabel(\"Real\")\n",
    "plt.ylabel(\"Predicted\")\n",
    "plt.title(\"Random forest\")\n",
    "plt.show()"
   ]
  },
  {
   "cell_type": "markdown",
   "id": "7e86ee75",
   "metadata": {},
   "source": [
    "# Gradient boosting regressor"
   ]
  },
  {
   "cell_type": "code",
   "execution_count": 23,
   "id": "d2b542bd",
   "metadata": {},
   "outputs": [
    {
     "data": {
      "text/plain": [
       "RandomizedSearchCV(cv=5, estimator=GradientBoostingRegressor(), n_iter=20,\n",
       "                   param_distributions={'max_features': array([1, 2, 3, 4, 5, 6, 7, 8, 9]),\n",
       "                                        'n_estimators': array([ 10,  15,  20,  25,  30,  35,  40,  45,  50,  55,  60,  65,  70,\n",
       "        75,  80,  85,  90,  95, 100, 105, 110, 115, 120, 125, 130, 135,\n",
       "       140, 145, 150, 155, 160, 165, 170, 175, 180, 185, 190, 195, 200,\n",
       "       205, 210, 215, 220, 225, 230, 235, 240, 245, 250, 255, 260, 265,\n",
       "       270, 275, 280, 285, 290, 295, 300, 305, 310, 315, 320, 325, 330,\n",
       "       335, 340, 345, 350, 355, 360, 365, 370, 375, 380, 385, 390, 395,\n",
       "       400, 405, 410, 415, 420, 425, 430, 435, 440, 445, 450, 455, 460,\n",
       "       465, 470, 475, 480, 485, 490, 495])},\n",
       "                   random_state=0, scoring='neg_mean_absolute_error')"
      ]
     },
     "execution_count": 23,
     "metadata": {},
     "output_type": "execute_result"
    }
   ],
   "source": [
    "gb = RandomizedSearchCV(GradientBoostingRegressor(),param_distributions =  {\n",
    "                                'n_estimators':np.arange(10,500,5),\n",
    "                                'max_features':np.arange(1,10,1)\n",
    "                            },\n",
    "                            cv=5, n_iter = 20,\n",
    "                            random_state=0,refit=True,\n",
    "                            scoring=\"neg_mean_absolute_error\")\n",
    "\n",
    "gb.fit(X_train,y_train)"
   ]
  },
  {
   "cell_type": "code",
   "execution_count": 24,
   "id": "58926233",
   "metadata": {},
   "outputs": [
    {
     "data": {
      "text/plain": [
       "{'n_estimators': 470, 'max_features': 5}"
      ]
     },
     "execution_count": 24,
     "metadata": {},
     "output_type": "execute_result"
    }
   ],
   "source": [
    "gb.best_params_"
   ]
  },
  {
   "cell_type": "code",
   "execution_count": 25,
   "id": "7205fa8a",
   "metadata": {},
   "outputs": [],
   "source": [
    "y_pred = gb.predict(X_test)"
   ]
  },
  {
   "cell_type": "code",
   "execution_count": 26,
   "id": "3d9bb194",
   "metadata": {},
   "outputs": [
    {
     "data": {
      "text/plain": [
       "8.990123738174495"
      ]
     },
     "execution_count": 26,
     "metadata": {},
     "output_type": "execute_result"
    }
   ],
   "source": [
    "mean_absolute_error(y_test,y_pred)"
   ]
  },
  {
   "cell_type": "code",
   "execution_count": 27,
   "id": "0a1122c2",
   "metadata": {},
   "outputs": [
    {
     "data": {
      "image/png": "[encoded data removed]",
      "text/plain": [
       "<Figure size 432x288 with 1 Axes>"
      ]
     },
     "metadata": {
      "needs_background": "light"
     },
     "output_type": "display_data"
    }
   ],
   "source": [
    "plt.scatter(y_test, y_pred, c='lime', edgecolor='black')\n",
    "m, b = np.polyfit(y_test, y_pred, 1)\n",
    "plt.plot(y_test, m*y_test + b)\n",
    "plt.xlabel(\"Real\")\n",
    "plt.ylabel(\"Predicted\")\n",
    "plt.title(\"Gradient boosting regressor\")\n",
    "plt.show()"
   ]
  },
  {
   "cell_type": "markdown",
   "id": "4b2cd056",
   "metadata": {},
   "source": [
    "# K Nearest Neighbors"
   ]
  },
  {
   "cell_type": "code",
   "execution_count": 28,
   "id": "9952ccc3",
   "metadata": {},
   "outputs": [
    {
     "data": {
      "text/plain": [
       "GridSearchCV(cv=5, estimator=KNeighborsRegressor(),\n",
       "             param_grid={'n_neighbors': array([ 1,  2,  3,  4,  5,  6,  7,  8,  9, 10, 11, 12, 13, 14, 15, 16, 17,\n",
       "       18, 19]),\n",
       "                         'weights': ['distance', 'uniform']},\n",
       "             scoring='neg_mean_absolute_error')"
      ]
     },
     "execution_count": 28,
     "metadata": {},
     "output_type": "execute_result"
    }
   ],
   "source": [
    "knn = GridSearchCV(KNeighborsRegressor(),param_grid =  {\n",
    "                                'n_neighbors':np.arange(1,20,1),\n",
    "                                'weights':['distance','uniform']\n",
    "                            },\n",
    "                            cv=5, \n",
    "                            refit=True,\n",
    "                            scoring=\"neg_mean_absolute_error\")\n",
    "\n",
    "knn.fit(X_train,y_train)"
   ]
  },
  {
   "cell_type": "code",
   "execution_count": 29,
   "id": "22d7f41d",
   "metadata": {},
   "outputs": [
    {
     "data": {
      "text/plain": [
       "{'n_neighbors': 1, 'weights': 'uniform'}"
      ]
     },
     "execution_count": 29,
     "metadata": {},
     "output_type": "execute_result"
    }
   ],
   "source": [
    "knn.best_params_"
   ]
  },
  {
   "cell_type": "code",
   "execution_count": 30,
   "id": "3e6c2c25",
   "metadata": {},
   "outputs": [],
   "source": [
    "y_pred = knn.predict(X_test)"
   ]
  },
  {
   "cell_type": "code",
   "execution_count": 31,
   "id": "fc7d1e87",
   "metadata": {},
   "outputs": [
    {
     "data": {
      "text/plain": [
       "7.778635115981791"
      ]
     },
     "execution_count": 31,
     "metadata": {},
     "output_type": "execute_result"
    }
   ],
   "source": [
    "mean_absolute_error(y_test,y_pred)"
   ]
  },
  {
   "cell_type": "code",
   "execution_count": 32,
   "id": "34b299fc",
   "metadata": {},
   "outputs": [
    {
     "data": {
      "image/png": "[encoded data removed]",
      "text/plain": [
       "<Figure size 432x288 with 1 Axes>"
      ]
     },
     "metadata": {
      "needs_background": "light"
     },
     "output_type": "display_data"
    }
   ],
   "source": [
    "plt.scatter(y_test, y_pred, c='lime', edgecolor='black')\n",
    "m, b = np.polyfit(y_test, y_pred, 1)\n",
    "plt.plot(y_test, m*y_test + b)\n",
    "plt.xlabel(\"Real\")\n",
    "plt.ylabel(\"Predicted\")\n",
    "plt.title(\"KNN\")\n",
    "plt.show()"
   ]
  },
  {
   "cell_type": "markdown",
   "id": "fd11777f",
   "metadata": {},
   "source": [
    "# Neural network"
   ]
  },
  {
   "cell_type": "code",
   "execution_count": 33,
   "id": "5de82ce8",
   "metadata": {},
   "outputs": [],
   "source": [
    "scaler = MinMaxScaler()\n",
    "\n",
    "scaler.fit(X_train)\n",
    "\n",
    "nnet = RandomizedSearchCV(MLPRegressor(max_iter=5000,learning_rate = 'adaptive',solver='sgd'),param_distributions =  {\n",
    "                                'hidden_layer_sizes':[(x,) for x in np.arange(1,50,1)],\n",
    "                                'activation':['logistic','relu']\n",
    "                            },\n",
    "                            cv=5, n_iter = 20,\n",
    "                            random_state=0,refit=True,\n",
    "                            scoring=\"neg_mean_absolute_error\")"
   ]
  },
  {
   "cell_type": "code",
   "execution_count": 34,
   "id": "c97dff37",
   "metadata": {},
   "outputs": [
    {
     "data": {
      "text/plain": [
       "RandomizedSearchCV(cv=5,\n",
       "                   estimator=MLPRegressor(learning_rate='adaptive',\n",
       "                                          max_iter=5000, solver='sgd'),\n",
       "                   n_iter=20,\n",
       "                   param_distributions={'activation': ['logistic', 'relu'],\n",
       "                                        'hidden_layer_sizes': [(1,), (2,), (3,),\n",
       "                                                               (4,), (5,), (6,),\n",
       "                                                               (7,), (8,), (9,),\n",
       "                                                               (10,), (11,),\n",
       "                                                               (12,), (13,),\n",
       "                                                               (14,), (15,),\n",
       "                                                               (16,), (17,),\n",
       "                                                               (18,), (19,),\n",
       "                                                               (20,), (21,),\n",
       "                                                               (22,), (23,),\n",
       "                                                               (24,), (25,),\n",
       "                                                               (26,), (27,),\n",
       "                                                               (28,), (29,),\n",
       "                                                               (30,), ...]},\n",
       "                   random_state=0, scoring='neg_mean_absolute_error')"
      ]
     },
     "execution_count": 34,
     "metadata": {},
     "output_type": "execute_result"
    }
   ],
   "source": [
    "nnet.fit(scaler.transform(X_train),y_train)"
   ]
  },
  {
   "cell_type": "code",
   "execution_count": 35,
   "id": "cd0ebb20",
   "metadata": {},
   "outputs": [],
   "source": [
    "y_pred = nnet.predict(scaler.transform(X_test))"
   ]
  },
  {
   "cell_type": "code",
   "execution_count": 36,
   "id": "7a2d6aa7",
   "metadata": {},
   "outputs": [
    {
     "data": {
      "text/plain": [
       "{'hidden_layer_sizes': (30,), 'activation': 'relu'}"
      ]
     },
     "execution_count": 36,
     "metadata": {},
     "output_type": "execute_result"
    }
   ],
   "source": [
    "nnet.best_params_"
   ]
  },
  {
   "cell_type": "code",
   "execution_count": 37,
   "id": "58562855",
   "metadata": {},
   "outputs": [
    {
     "data": {
      "text/plain": [
       "14.821284834868308"
      ]
     },
     "execution_count": 37,
     "metadata": {},
     "output_type": "execute_result"
    }
   ],
   "source": [
    "mean_absolute_error(y_test,y_pred)"
   ]
  },
  {
   "cell_type": "code",
   "execution_count": 38,
   "id": "d6162a40",
   "metadata": {},
   "outputs": [
    {
     "data": {
      "image/png": "[encoded data removed]",
      "text/plain": [
       "<Figure size 432x288 with 1 Axes>"
      ]
     },
     "metadata": {
      "needs_background": "light"
     },
     "output_type": "display_data"
    }
   ],
   "source": [
    "plt.scatter(y_test, y_pred, c='lime', edgecolor='black')\n",
    "m, b = np.polyfit(y_test, y_pred, 1)\n",
    "plt.plot(y_test, m*y_test + b)\n",
    "plt.xlabel(\"Real\")\n",
    "plt.ylabel(\"Predicted\")\n",
    "plt.title(\"Neural network\")\n",
    "plt.show()"
   ]
  },
  {
   "cell_type": "markdown",
   "id": "f305e1d2",
   "metadata": {},
   "source": [
    "# Linear regression with Bagging"
   ]
  },
  {
   "cell_type": "code",
   "execution_count": 39,
   "id": "24b47dfc",
   "metadata": {},
   "outputs": [
    {
     "data": {
      "text/plain": [
       "RandomizedSearchCV(cv=5,\n",
       "                   estimator=BaggingRegressor(base_estimator=LinearRegression()),\n",
       "                   n_iter=20,\n",
       "                   param_distributions={'max_features': array([1, 2, 3, 4, 5, 6, 7, 8, 9]),\n",
       "                                        'n_estimators': array([ 10,  15,  20,  25,  30,  35,  40,  45,  50,  55,  60,  65,  70,\n",
       "        75,  80,  85,  90,  95, 100, 105, 110, 115, 120, 125, 130, 135,\n",
       "       140, 145, 150, 155, 160, 165, 170, 175, 180, 185, 190, 195, 200,\n",
       "       205, 210, 215, 220, 225, 230, 235, 240, 245, 250, 255, 260, 265,\n",
       "       270, 275, 280, 285, 290, 295, 300, 305, 310, 315, 320, 325, 330,\n",
       "       335, 340, 345, 350, 355, 360, 365, 370, 375, 380, 385, 390, 395,\n",
       "       400, 405, 410, 415, 420, 425, 430, 435, 440, 445, 450, 455, 460,\n",
       "       465, 470, 475, 480, 485, 490, 495])},\n",
       "                   random_state=0, scoring='neg_mean_absolute_error')"
      ]
     },
     "execution_count": 39,
     "metadata": {},
     "output_type": "execute_result"
    }
   ],
   "source": [
    "lr_bag = RandomizedSearchCV(BaggingRegressor(LinearRegression()),param_distributions =  {\n",
    "                                'n_estimators':np.arange(10,500,5),\n",
    "                                'max_features':np.arange(1,10,1)\n",
    "                            },\n",
    "                            cv=5, n_iter = 20,\n",
    "                            random_state=0,refit=True,\n",
    "                            scoring=\"neg_mean_absolute_error\")\n",
    "\n",
    "lr_bag.fit(X_train,y_train)"
   ]
  },
  {
   "cell_type": "code",
   "execution_count": 40,
   "id": "2244b7b0",
   "metadata": {},
   "outputs": [],
   "source": [
    "y_pred = lr_bag.predict(X_test)"
   ]
  },
  {
   "cell_type": "code",
   "execution_count": 41,
   "id": "9f6fe912",
   "metadata": {},
   "outputs": [
    {
     "data": {
      "text/plain": [
       "{'n_estimators': 255, 'max_features': 9}"
      ]
     },
     "execution_count": 41,
     "metadata": {},
     "output_type": "execute_result"
    }
   ],
   "source": [
    "lr_bag.best_params_"
   ]
  },
  {
   "cell_type": "code",
   "execution_count": 42,
   "id": "56afed1f",
   "metadata": {},
   "outputs": [
    {
     "data": {
      "text/plain": [
       "14.510198974367961"
      ]
     },
     "execution_count": 42,
     "metadata": {},
     "output_type": "execute_result"
    }
   ],
   "source": [
    "mean_absolute_error(y_test,y_pred)"
   ]
  },
  {
   "cell_type": "code",
   "execution_count": 43,
   "id": "94614a67",
   "metadata": {},
   "outputs": [
    {
     "data": {
      "image/png": "[encoded data removed]",
      "text/plain": [
       "<Figure size 432x288 with 1 Axes>"
      ]
     },
     "metadata": {
      "needs_background": "light"
     },
     "output_type": "display_data"
    }
   ],
   "source": [
    "plt.scatter(y_test, y_pred, c='lime', edgecolor='black')\n",
    "m, b = np.polyfit(y_test, y_pred, 1)\n",
    "plt.plot(y_test, m*y_test + b)\n",
    "plt.xlabel(\"Real\")\n",
    "plt.ylabel(\"Predicted\")\n",
    "plt.title(\"Linear regression with bagging\")\n",
    "plt.show()"
   ]
  },
  {
   "cell_type": "markdown",
   "id": "4db78b08",
   "metadata": {},
   "source": [
    "# Linear regression with Adaboost"
   ]
  },
  {
   "cell_type": "code",
   "execution_count": 44,
   "id": "bb13210f",
   "metadata": {},
   "outputs": [
    {
     "data": {
      "text/plain": [
       "GridSearchCV(cv=5,\n",
       "             estimator=AdaBoostRegressor(base_estimator=LinearRegression()),\n",
       "             param_grid={'n_estimators': array([ 20,  25,  30,  35,  40,  45,  50,  55,  60,  65,  70,  75,  80,\n",
       "        85,  90,  95, 100, 105, 110, 115, 120, 125, 130, 135, 140, 145,\n",
       "       150, 155, 160, 165, 170, 175, 180, 185, 190, 195, 200, 205, 210,\n",
       "       215, 220, 225, 230, 235, 240, 245, 250, 255, 260, 265, 270, 275,\n",
       "       280, 285, 290, 295, 300, 305, 310, 315, 320, 325, 330, 335, 340,\n",
       "       345, 350, 355, 360, 365, 370, 375, 380, 385, 390, 395, 400, 405,\n",
       "       410, 415, 420, 425, 430, 435, 440, 445, 450, 455, 460, 465, 470,\n",
       "       475, 480, 485, 490, 495])},\n",
       "             scoring='neg_mean_absolute_error')"
      ]
     },
     "execution_count": 44,
     "metadata": {},
     "output_type": "execute_result"
    }
   ],
   "source": [
    "lr_boost = GridSearchCV(AdaBoostRegressor(LinearRegression()),param_grid =  {\n",
    "                                'n_estimators':np.arange(20,500,5)\n",
    "                            },\n",
    "                            cv=5, \n",
    "                            refit=True,\n",
    "                            scoring=\"neg_mean_absolute_error\")\n",
    "\n",
    "lr_boost.fit(X_train,y_train)"
   ]
  },
  {
   "cell_type": "code",
   "execution_count": 45,
   "id": "b7437cce",
   "metadata": {},
   "outputs": [],
   "source": [
    "y_pred = lr_boost.predict(X_test)"
   ]
  },
  {
   "cell_type": "code",
   "execution_count": 46,
   "id": "38156267",
   "metadata": {},
   "outputs": [
    {
     "data": {
      "text/plain": [
       "{'n_estimators': 195}"
      ]
     },
     "execution_count": 46,
     "metadata": {},
     "output_type": "execute_result"
    }
   ],
   "source": [
    "lr_boost.best_params_"
   ]
  },
  {
   "cell_type": "code",
   "execution_count": 47,
   "id": "f27b3b99",
   "metadata": {},
   "outputs": [
    {
     "data": {
      "text/plain": [
       "18.029284112810608"
      ]
     },
     "execution_count": 47,
     "metadata": {},
     "output_type": "execute_result"
    }
   ],
   "source": [
    "mean_absolute_error(y_test,y_pred)"
   ]
  },
  {
   "cell_type": "code",
   "execution_count": 48,
   "id": "8d365f49",
   "metadata": {},
   "outputs": [
    {
     "data": {
      "image/png": "[encoded data removed]",
      "text/plain": [
       "<Figure size 432x288 with 1 Axes>"
      ]
     },
     "metadata": {
      "needs_background": "light"
     },
     "output_type": "display_data"
    }
   ],
   "source": [
    "plt.scatter(y_test, y_pred, c='lime', edgecolor='black')\n",
    "m, b = np.polyfit(y_test, y_pred, 1)\n",
    "plt.plot(y_test, m*y_test + b)\n",
    "plt.xlabel(\"Real\")\n",
    "plt.ylabel(\"Predicted\")\n",
    "plt.title(\"Linear regression with boosting\")\n",
    "plt.show()"
   ]
  },
  {
   "cell_type": "code",
   "execution_count": null,
   "id": "fafb8db7",
   "metadata": {},
   "outputs": [],
   "source": []
  }
 ],
 "metadata": {
  "kernelspec": {
   "display_name": "Python 3 (ipykernel)",
   "language": "python",
   "name": "python3"
  },
  "language_info": {
   "codemirror_mode": {
    "name": "ipython",
    "version": 3
   },
   "file_extension": ".py",
   "mimetype": "text/x-python",
   "name": "python",
   "nbconvert_exporter": "python",
   "pygments_lexer": "ipython3",
   "version": "3.10.2"
  }
 },
 "nbformat": 4,
 "nbformat_minor": 5
}
